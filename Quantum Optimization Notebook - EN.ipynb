{
  "cells": [
    {
      "cell_type": "markdown",
      "metadata": {
        "id": "_EcftCQMBXB8"
      },
      "source": [
        "# Quantum Optimization with QAOA\n",
        "\n",
        "In this notebook we will present:\n",
        "\n",
        "1) How to prepare a state with a quantum circuit using the `QuantumCircuit` object from Qiskit.\n",
        "\n",
        "2) How to build an observable using the `opflow` operators from Qiskit.\n",
        "\n",
        "3) How to estimate the gain of our MaxCut instance using an observable and a quantum circuit.\n",
        "\n",
        "4) An inspection of the QAOA variational quantum circuit.\n",
        "\n",
        "5) How to perform classical optimization of the parameters on the QAOA circuit.\n",
        "\n",
        "6) An analysis of the impact of layer repetition on the QAOA circuit."
      ]
    },
    {
      "cell_type": "markdown",
      "metadata": {
        "id": "t2YuQCBeBXB_"
      },
      "source": [
        "## First we install and import dependencies"
      ]
    },
    {
      "cell_type": "code",
      "execution_count": 1,
      "metadata": {
        "colab": {
          "base_uri": "https://localhost:8080/"
        },
        "id": "qDl_6zQYBXB_",
        "outputId": "22b74104-8906-42d4-99e9-d8a56b9f30d9"
      },
      "outputs": [
        {
          "output_type": "stream",
          "name": "stdout",
          "text": [
            "Collecting qiskit\n",
            "  Downloading qiskit-1.2.4-cp38-abi3-manylinux_2_17_x86_64.manylinux2014_x86_64.whl.metadata (12 kB)\n",
            "Collecting rustworkx>=0.15.0 (from qiskit)\n",
            "  Downloading rustworkx-0.15.1-cp38-abi3-manylinux_2_17_x86_64.manylinux2014_x86_64.whl.metadata (9.9 kB)\n",
            "Requirement already satisfied: numpy<3,>=1.17 in /usr/local/lib/python3.10/dist-packages (from qiskit) (1.26.4)\n",
            "Requirement already satisfied: scipy>=1.5 in /usr/local/lib/python3.10/dist-packages (from qiskit) (1.13.1)\n",
            "Requirement already satisfied: sympy>=1.3 in /usr/local/lib/python3.10/dist-packages (from qiskit) (1.13.1)\n",
            "Collecting dill>=0.3 (from qiskit)\n",
            "  Downloading dill-0.3.9-py3-none-any.whl.metadata (10 kB)\n",
            "Requirement already satisfied: python-dateutil>=2.8.0 in /usr/local/lib/python3.10/dist-packages (from qiskit) (2.8.2)\n",
            "Collecting stevedore>=3.0.0 (from qiskit)\n",
            "  Downloading stevedore-5.3.0-py3-none-any.whl.metadata (2.3 kB)\n",
            "Requirement already satisfied: typing-extensions in /usr/local/lib/python3.10/dist-packages (from qiskit) (4.12.2)\n",
            "Collecting symengine<0.14,>=0.11 (from qiskit)\n",
            "  Downloading symengine-0.13.0-cp310-cp310-manylinux_2_17_x86_64.manylinux2014_x86_64.whl.metadata (1.2 kB)\n",
            "Requirement already satisfied: six>=1.5 in /usr/local/lib/python3.10/dist-packages (from python-dateutil>=2.8.0->qiskit) (1.16.0)\n",
            "Collecting pbr>=2.0.0 (from stevedore>=3.0.0->qiskit)\n",
            "  Downloading pbr-6.1.0-py2.py3-none-any.whl.metadata (3.4 kB)\n",
            "Requirement already satisfied: mpmath<1.4,>=1.1.0 in /usr/local/lib/python3.10/dist-packages (from sympy>=1.3->qiskit) (1.3.0)\n",
            "Downloading qiskit-1.2.4-cp38-abi3-manylinux_2_17_x86_64.manylinux2014_x86_64.whl (4.8 MB)\n",
            "\u001b[2K   \u001b[90m━━━━━━━━━━━━━━━━━━━━━━━━━━━━━━━━━━━━━━━━\u001b[0m \u001b[32m4.8/4.8 MB\u001b[0m \u001b[31m17.0 MB/s\u001b[0m eta \u001b[36m0:00:00\u001b[0m\n",
            "\u001b[?25hDownloading dill-0.3.9-py3-none-any.whl (119 kB)\n",
            "\u001b[2K   \u001b[90m━━━━━━━━━━━━━━━━━━━━━━━━━━━━━━━━━━━━━━━━\u001b[0m \u001b[32m119.4/119.4 kB\u001b[0m \u001b[31m4.7 MB/s\u001b[0m eta \u001b[36m0:00:00\u001b[0m\n",
            "\u001b[?25hDownloading rustworkx-0.15.1-cp38-abi3-manylinux_2_17_x86_64.manylinux2014_x86_64.whl (2.0 MB)\n",
            "\u001b[2K   \u001b[90m━━━━━━━━━━━━━━━━━━━━━━━━━━━━━━━━━━━━━━━━\u001b[0m \u001b[32m2.0/2.0 MB\u001b[0m \u001b[31m19.0 MB/s\u001b[0m eta \u001b[36m0:00:00\u001b[0m\n",
            "\u001b[?25hDownloading stevedore-5.3.0-py3-none-any.whl (49 kB)\n",
            "\u001b[2K   \u001b[90m━━━━━━━━━━━━━━━━━━━━━━━━━━━━━━━━━━━━━━━━\u001b[0m \u001b[32m49.7/49.7 kB\u001b[0m \u001b[31m767.6 kB/s\u001b[0m eta \u001b[36m0:00:00\u001b[0m\n",
            "\u001b[?25hDownloading symengine-0.13.0-cp310-cp310-manylinux_2_17_x86_64.manylinux2014_x86_64.whl (49.7 MB)\n",
            "\u001b[2K   \u001b[90m━━━━━━━━━━━━━━━━━━━━━━━━━━━━━━━━━━━━━━━━\u001b[0m \u001b[32m49.7/49.7 MB\u001b[0m \u001b[31m9.3 MB/s\u001b[0m eta \u001b[36m0:00:00\u001b[0m\n",
            "\u001b[?25hDownloading pbr-6.1.0-py2.py3-none-any.whl (108 kB)\n",
            "\u001b[2K   \u001b[90m━━━━━━━━━━━━━━━━━━━━━━━━━━━━━━━━━━━━━━━━\u001b[0m \u001b[32m108.5/108.5 kB\u001b[0m \u001b[31m3.3 MB/s\u001b[0m eta \u001b[36m0:00:00\u001b[0m\n",
            "\u001b[?25hInstalling collected packages: symengine, rustworkx, pbr, dill, stevedore, qiskit\n",
            "Successfully installed dill-0.3.9 pbr-6.1.0 qiskit-1.2.4 rustworkx-0.15.1 stevedore-5.3.0 symengine-0.13.0\n",
            "Collecting qiskit_aer\n",
            "  Downloading qiskit_aer-0.15.1-cp310-cp310-manylinux_2_17_x86_64.manylinux2014_x86_64.whl.metadata (8.0 kB)\n",
            "Requirement already satisfied: qiskit>=1.1.0 in /usr/local/lib/python3.10/dist-packages (from qiskit_aer) (1.2.4)\n",
            "Requirement already satisfied: numpy>=1.16.3 in /usr/local/lib/python3.10/dist-packages (from qiskit_aer) (1.26.4)\n",
            "Requirement already satisfied: scipy>=1.0 in /usr/local/lib/python3.10/dist-packages (from qiskit_aer) (1.13.1)\n",
            "Requirement already satisfied: psutil>=5 in /usr/local/lib/python3.10/dist-packages (from qiskit_aer) (5.9.5)\n",
            "Requirement already satisfied: rustworkx>=0.15.0 in /usr/local/lib/python3.10/dist-packages (from qiskit>=1.1.0->qiskit_aer) (0.15.1)\n",
            "Requirement already satisfied: sympy>=1.3 in /usr/local/lib/python3.10/dist-packages (from qiskit>=1.1.0->qiskit_aer) (1.13.1)\n",
            "Requirement already satisfied: dill>=0.3 in /usr/local/lib/python3.10/dist-packages (from qiskit>=1.1.0->qiskit_aer) (0.3.9)\n",
            "Requirement already satisfied: python-dateutil>=2.8.0 in /usr/local/lib/python3.10/dist-packages (from qiskit>=1.1.0->qiskit_aer) (2.8.2)\n",
            "Requirement already satisfied: stevedore>=3.0.0 in /usr/local/lib/python3.10/dist-packages (from qiskit>=1.1.0->qiskit_aer) (5.3.0)\n",
            "Requirement already satisfied: typing-extensions in /usr/local/lib/python3.10/dist-packages (from qiskit>=1.1.0->qiskit_aer) (4.12.2)\n",
            "Requirement already satisfied: symengine<0.14,>=0.11 in /usr/local/lib/python3.10/dist-packages (from qiskit>=1.1.0->qiskit_aer) (0.13.0)\n",
            "Requirement already satisfied: six>=1.5 in /usr/local/lib/python3.10/dist-packages (from python-dateutil>=2.8.0->qiskit>=1.1.0->qiskit_aer) (1.16.0)\n",
            "Requirement already satisfied: pbr>=2.0.0 in /usr/local/lib/python3.10/dist-packages (from stevedore>=3.0.0->qiskit>=1.1.0->qiskit_aer) (6.1.0)\n",
            "Requirement already satisfied: mpmath<1.4,>=1.1.0 in /usr/local/lib/python3.10/dist-packages (from sympy>=1.3->qiskit>=1.1.0->qiskit_aer) (1.3.0)\n",
            "Downloading qiskit_aer-0.15.1-cp310-cp310-manylinux_2_17_x86_64.manylinux2014_x86_64.whl (12.3 MB)\n",
            "\u001b[2K   \u001b[90m━━━━━━━━━━━━━━━━━━━━━━━━━━━━━━━━━━━━━━━━\u001b[0m \u001b[32m12.3/12.3 MB\u001b[0m \u001b[31m47.8 MB/s\u001b[0m eta \u001b[36m0:00:00\u001b[0m\n",
            "\u001b[?25hInstalling collected packages: qiskit_aer\n",
            "Successfully installed qiskit_aer-0.15.1\n",
            "Requirement already satisfied: matplotlib in /usr/local/lib/python3.10/dist-packages (3.8.0)\n",
            "Requirement already satisfied: contourpy>=1.0.1 in /usr/local/lib/python3.10/dist-packages (from matplotlib) (1.3.0)\n",
            "Requirement already satisfied: cycler>=0.10 in /usr/local/lib/python3.10/dist-packages (from matplotlib) (0.12.1)\n",
            "Requirement already satisfied: fonttools>=4.22.0 in /usr/local/lib/python3.10/dist-packages (from matplotlib) (4.54.1)\n",
            "Requirement already satisfied: kiwisolver>=1.0.1 in /usr/local/lib/python3.10/dist-packages (from matplotlib) (1.4.7)\n",
            "Requirement already satisfied: numpy<2,>=1.21 in /usr/local/lib/python3.10/dist-packages (from matplotlib) (1.26.4)\n",
            "Requirement already satisfied: packaging>=20.0 in /usr/local/lib/python3.10/dist-packages (from matplotlib) (24.1)\n",
            "Requirement already satisfied: pillow>=6.2.0 in /usr/local/lib/python3.10/dist-packages (from matplotlib) (10.4.0)\n",
            "Requirement already satisfied: pyparsing>=2.3.1 in /usr/local/lib/python3.10/dist-packages (from matplotlib) (3.2.0)\n",
            "Requirement already satisfied: python-dateutil>=2.7 in /usr/local/lib/python3.10/dist-packages (from matplotlib) (2.8.2)\n",
            "Requirement already satisfied: six>=1.5 in /usr/local/lib/python3.10/dist-packages (from python-dateutil>=2.7->matplotlib) (1.16.0)\n",
            "Collecting pylatexenc\n",
            "  Downloading pylatexenc-2.10.tar.gz (162 kB)\n",
            "\u001b[2K     \u001b[90m━━━━━━━━━━━━━━━━━━━━━━━━━━━━━━━━━━━━━━━━\u001b[0m \u001b[32m162.6/162.6 kB\u001b[0m \u001b[31m4.1 MB/s\u001b[0m eta \u001b[36m0:00:00\u001b[0m\n",
            "\u001b[?25h  Preparing metadata (setup.py) ... \u001b[?25l\u001b[?25hdone\n",
            "Building wheels for collected packages: pylatexenc\n",
            "  Building wheel for pylatexenc (setup.py) ... \u001b[?25l\u001b[?25hdone\n",
            "  Created wheel for pylatexenc: filename=pylatexenc-2.10-py3-none-any.whl size=136816 sha256=82c2fc6dc24778fac8ebf6e90cd8011de26e7770add0776f3a26342a338503cf\n",
            "  Stored in directory: /root/.cache/pip/wheels/d3/31/8b/e09b0386afd80cfc556c00408c9aeea5c35c4d484a9c762fd5\n",
            "Successfully built pylatexenc\n",
            "Installing collected packages: pylatexenc\n",
            "Successfully installed pylatexenc-2.10\n",
            "Requirement already satisfied: scipy in /usr/local/lib/python3.10/dist-packages (1.13.1)\n",
            "Requirement already satisfied: numpy<2.3,>=1.22.4 in /usr/local/lib/python3.10/dist-packages (from scipy) (1.26.4)\n",
            "Cloning into 'qaoa_workshop'...\n",
            "remote: Enumerating objects: 13, done.\u001b[K\n",
            "remote: Counting objects: 100% (13/13), done.\u001b[K\n",
            "remote: Compressing objects: 100% (9/9), done.\u001b[K\n",
            "Receiving objects: 100% (13/13), 14.14 KiB | 7.07 MiB/s, done.\n",
            "Resolving deltas: 100% (6/6), done.\n",
            "remote: Total 13 (delta 6), reused 11 (delta 4), pack-reused 0 (from 0)\u001b[K\n"
          ]
        }
      ],
      "source": [
        "!pip install qiskit\n",
        "!pip install qiskit_aer\n",
        "!pip install matplotlib\n",
        "!pip install pylatexenc\n",
        "!pip install scipy\n",
        "\n",
        "!git clone https://github.com/MarcoArmenta/qaoa_workshop.git"
      ]
    },
    {
      "cell_type": "code",
      "execution_count": null,
      "metadata": {
        "id": "Nk_jNfhqBXCA"
      },
      "outputs": [],
      "source": [
        "import networkx as nx\n",
        "\n",
        "from qiskit import QuantumCircuit\n",
        "from qiskit.circuit.library.n_local.qaoa_ansatz import QAOAAnsatz\n",
        "from qiskit.primitives import BackendEstimatorV2 as Estimator, BackendSamplerV2 as Sampler\n",
        "from qiskit.quantum_info import SparsePauliOp\n",
        "from qiskit.visualization import plot_histogram\n",
        "from qiskit_aer import AerSimulator\n",
        "\n",
        "from scipy.optimize import minimize"
      ]
    },
    {
      "cell_type": "code",
      "execution_count": null,
      "metadata": {
        "id": "ETu2L_z7BXCB"
      },
      "outputs": [],
      "source": [
        "import os\n",
        "import sys\n",
        "sys.path.insert(0, '/content/qaoa_workshop')\n",
        "\n",
        "from QAOA_AlgoLab import *"
      ]
    },
    {
      "cell_type": "code",
      "execution_count": null,
      "metadata": {
        "id": "SOtbbQr3BXCB"
      },
      "outputs": [],
      "source": [
        "test_function()"
      ]
    },
    {
      "cell_type": "markdown",
      "metadata": {
        "id": "voTqsuiZBXCC"
      },
      "source": [
        "## Quantum State Preparation\n",
        "\n",
        "Let's start by preparing a quantum state with a quantum circuit. Let's prepare the state $|01011\\rangle$."
      ]
    },
    {
      "cell_type": "code",
      "execution_count": null,
      "metadata": {
        "id": "xhQuHcohBXCC"
      },
      "outputs": [],
      "source": [
        "qc_trial = QuantumCircuit(5)\n",
        "qc_trial.x([0,1,3])\n",
        "qc_trial.draw('mpl')"
      ]
    },
    {
      "cell_type": "markdown",
      "metadata": {
        "id": "GAHNXbb2BXCD"
      },
      "source": [
        "We can verify that the prepared state is the correct state with the `qasm_simulator`.\n",
        "The following code will print a dictionary of counts of the basis states obtained after running and measuring the quantum circuit `qc_trial` that we build before."
      ]
    },
    {
      "cell_type": "code",
      "execution_count": null,
      "metadata": {
        "id": "ny4oH3LABXCE"
      },
      "outputs": [],
      "source": [
        "# We first choose a backend to run the experiment. In this case, the qasm_simulator is used.\n",
        "simulator = AerSimulator(shots=100)\n",
        "\n",
        "# We copy the quantum circuit we build before to add measurements\n",
        "qc_trial_state = qc_trial.copy()\n",
        "# measure_all() methods builds a classical register on the QuantumCircuit\n",
        "qc_trial.measure_all()\n",
        "\n",
        "# We execute the experiment on the given backend with the corresponding specificacions\n",
        "# and get the dictionary of counts of the experiment\n",
        "counts = simulator.run(qc_trial).result().get_counts()\n",
        "print(counts)"
      ]
    },
    {
      "cell_type": "markdown",
      "metadata": {
        "id": "7bKtBon_BXCF"
      },
      "source": [
        "# Exercise 1\n",
        "Build a quantum circuit to prepare the following state and then run it:\n",
        "\n",
        "$ \\frac{1}{\\sqrt{2}} \\big( |11101\\rangle + |11001\\rangle \\big) $"
      ]
    },
    {
      "cell_type": "code",
      "execution_count": null,
      "metadata": {
        "id": "N_3ojfScBXCF"
      },
      "outputs": [],
      "source": [
        "qc_ex_1 = QuantumCircuit(5)\n",
        "# Write your code here\n"
      ]
    },
    {
      "cell_type": "code",
      "execution_count": null,
      "metadata": {
        "id": "FUjuB_rVBXCG"
      },
      "outputs": [],
      "source": [
        "exercise_superposition_state(qc_ex_1)"
      ]
    },
    {
      "cell_type": "markdown",
      "metadata": {
        "id": "eBOeEjwsBXCG"
      },
      "source": [
        "## Building the observable\n",
        "\n",
        "We will use the `opflow` operators to build the observable. With the following code we build the first term of the gain operator corresponding to the orange and red nodes of the superhero graph."
      ]
    },
    {
      "cell_type": "code",
      "execution_count": null,
      "metadata": {
        "id": "sgSltfBRBXCG"
      },
      "outputs": [],
      "source": [
        "example_operator = SparsePauliOp(data=[\"IIIZZ\"], coeffs=[-0.5])\n",
        "print(example_operator)"
      ]
    },
    {
      "cell_type": "markdown",
      "metadata": {
        "id": "yAmqKJjtBXCG"
      },
      "source": [
        "## Exercise 2\n",
        "\n",
        "Build the gain operator for the complete superhero graph."
      ]
    },
    {
      "cell_type": "code",
      "execution_count": null,
      "metadata": {
        "id": "SknVykREBXCH"
      },
      "outputs": [],
      "source": [
        "gain_operator_ex = #Write your code here\n",
        "\n",
        "exercise_gain_operator(gain_operator_ex)"
      ]
    },
    {
      "cell_type": "markdown",
      "metadata": {
        "id": "BwPysmtrBXCH"
      },
      "source": [
        "## Estimating the gain\n",
        "Given a `QuantumCircuit` and an `opflow` operator we can estimate the gain using Qiskit."
      ]
    },
    {
      "cell_type": "code",
      "execution_count": null,
      "metadata": {
        "id": "Ev-fBVeKBXCH"
      },
      "outputs": [],
      "source": [
        "data = [\"ZZIII\", \"IZZII\", \"ZIIZI\", \"IIZZI\", \"IIZIZ\", \"IIIZZ\", \"IIIII\"]\n",
        "coeffs = [-0.5,  -0.5, -0.5, -0.5, -0.5, -0.5, 0.5*6]\n",
        "\n",
        "gain_operator = SparsePauliOp(data=data, coeffs=coeffs)\n",
        "\n",
        "# If you want to know the details\n",
        "# the function \"eval_observable_on_state\" is defined in the python file QAOA_AlgoLab.py\n",
        "average_gain = eval_observable_on_state(gain_operator, qc_trial_state, simulator)\n",
        "\n",
        "print(average_gain) #trial"
      ]
    },
    {
      "cell_type": "markdown",
      "metadata": {
        "id": "j8YkugdkBXCI"
      },
      "source": [
        "## Exercise 3\n",
        "Compute the gain for the state $ \\frac{1}{\\sqrt{2}} \\big( |01011\\rangle + |11011\\rangle \\big)$"
      ]
    },
    {
      "cell_type": "code",
      "execution_count": null,
      "metadata": {
        "id": "e-F7_HOEBXCI"
      },
      "outputs": [],
      "source": [
        "qc = QuantumCircuit(5)\n",
        "# Build the circuit here\n",
        "\n",
        "# uncoment the following line to draw the circuit\n",
        "qc.draw('mpl')"
      ]
    },
    {
      "cell_type": "code",
      "execution_count": null,
      "metadata": {
        "id": "ppsk3JGYBXCI"
      },
      "outputs": [],
      "source": [
        "average_gain = eval_observable_on_state(gain_operator, qc, simulator)\n",
        "exercise_average_gain(average_gain)"
      ]
    },
    {
      "cell_type": "markdown",
      "metadata": {
        "id": "mgDZQXROBXCJ"
      },
      "source": [
        "## Building the graph and showing solution states on it"
      ]
    },
    {
      "cell_type": "markdown",
      "metadata": {
        "id": "aslvQ_apBXCJ"
      },
      "source": [
        "We now display the graph with each superhero represented with a different color. Remember that the conexions on this graph represent shared superpowers.\n",
        "\n",
        "In addition, we use two colors to color the interior of the nodes to represent the different teams: white (0) and gray (1), and we show here a particular choice, NOT the solution given by the algorithm. You can try to edit the variable `x` below to observe how the colors on the interior of the nodes change."
      ]
    },
    {
      "cell_type": "code",
      "execution_count": null,
      "metadata": {
        "id": "WU2xCAEbBXCJ"
      },
      "outputs": [],
      "source": [
        "# We build the graph using the object Graph from the networkx package\n",
        "graph = nx.Graph()\n",
        "# Adding the nodes\n",
        "graph.add_nodes_from([0,1,2,3,4])\n",
        "# Adding the edges\n",
        "graph.add_edges_from([(0, 1), (0, 2), (1, 2), (1, 4), (2, 3), (3, 4)])\n",
        "\n",
        "# Here, x is the bitstring representing the different teams with 0s for white and 1s for gray\n",
        "# Try editing the bitstring to see how the teams coincide with the 0s and 1s\n",
        "# Remember that the bitstring is read from right to left !!\n",
        "x = '01011'\n",
        "print_solution_graph(graph, x)"
      ]
    },
    {
      "cell_type": "markdown",
      "metadata": {
        "id": "H___O6u3BXCJ"
      },
      "source": [
        "## Inspecting the QAOA quantum circuit\n",
        "\n",
        "The Quantum Approximate Optimization Algorithm (QAOA) is a specific type of algorithm that prepares a parametrized quantum state. This circuit depends on the cost operator, which is the negative of the gain operator."
      ]
    },
    {
      "cell_type": "code",
      "execution_count": null,
      "metadata": {
        "id": "ONQ_aw6yBXCK"
      },
      "outputs": [],
      "source": [
        "data = [\"ZZIII\", \"IZZII\", \"ZIIZI\", \"IIZZI\", \"IIZIZ\", \"IIIZZ\", \"IIIII\"]\n",
        "coeffs = [-0.5, -0.5, -0.5, -0.5, -0.5, -0.5, 0.5*6]\n",
        "\n",
        "gain_operator = SparsePauliOp(data=data, coeffs=coeffs)\n",
        "cost_operator = - gain_operator\n",
        "\n",
        "print(cost_operator)"
      ]
    },
    {
      "cell_type": "markdown",
      "metadata": {
        "id": "7tfEFMaxBXCK"
      },
      "source": [
        "The circuit of QAOA starts by putting all the qubits in an equal superposition to exploit quantum parallelism. Then, controlled RZ gates are applied accordingly with respect to the structure of the graph. The last step is a layer of RX gates.\n",
        "\n",
        "Observe that the QAOAAnsatz object receives a variable called `reps`. This variables controls how many times the cost operator and the RX layer are repeated on the circuit of QAOA."
      ]
    },
    {
      "cell_type": "code",
      "execution_count": null,
      "metadata": {
        "id": "6hF_zHtLBXCK"
      },
      "outputs": [],
      "source": [
        "qaoa_ansatz_1 = QAOAAnsatz(cost_operator, reps=1)\n",
        "\n",
        "# Observe that the circuit is built accordingly to the cost_operator defined above\n",
        "qaoa_ansatz_1.decompose().draw('mpl')"
      ]
    },
    {
      "cell_type": "markdown",
      "metadata": {
        "id": "kEEUN1T-BXCK"
      },
      "source": [
        "## Optimization of the parameters of the QAOA quantum circuit\n",
        "\n",
        "In this part, we perform a classical optimization of the parameters on the quantum gates of the circuit presented above based on a specific classical optimizer. For this, we have to:\n",
        "\n",
        "1) Choose an optimizer. We use SPSA.\n",
        "\n",
        "2) Instantiate the QAOA algorithm from Qiskit.\n",
        "\n",
        "3) Run the optimization process.\n",
        "\n",
        "4) Get the state with higher counts."
      ]
    },
    {
      "cell_type": "code",
      "execution_count": null,
      "metadata": {
        "id": "WxkbA-EGBXCK"
      },
      "outputs": [],
      "source": [
        "# Définir la fonction de coût classique à optimiser\n",
        "def fonction_cout(\n",
        "    params: list[complex], estimator: Estimator, circuit: QuantumCircuit, hamiltonien: SparsePauliOp\n",
        ") -> float:\n",
        "    \"\"\"Fonction de cout qui calcule la valeur moyenne d'un observable (hamiltonien) pour un état donnée (circuit).\n",
        "    Cette valeur moyenne représente le coût de la fonction de coût décrite par l'hamiltonien en entrée. Aussi, le\n",
        "    circuit est paramétré et les paramètres sont définis dans le vecteurs params.\n",
        "    Le tout est évalué à l'aide de l'estimateur (estimator).\n",
        "\n",
        "    Args:\n",
        "        params (list[complex]): Liste de paramètres à insérer dans le circuit en entrée\n",
        "        estimator (Estimator): Calculateur utilisé pour estimer la valeur moyenne désirée.\n",
        "        circuit (QuantumCircuit): Circuit paramétré de QAOA.\n",
        "        hamiltonien (SparsePauliOp): Observable décrivant la fonction de coût du problème donné.\n",
        "\n",
        "    Returns:\n",
        "        float: Coût associé aux paramètres passés en entrée.\n",
        "    \"\"\"\n",
        "\n",
        "    job = estimator.run([(circuit, hamiltonien, params)])\n",
        "    cout = job.result()[0].data.evs\n",
        "    return cout"
      ]
    },
    {
      "cell_type": "code",
      "execution_count": null,
      "metadata": {
        "id": "LXcDDo2OBXCL"
      },
      "outputs": [],
      "source": [
        "estimator = Estimator(backend=simulator)\n",
        "\n",
        "# Initialisation des paramètres du circuit de QAOA à utiliser en premier lieu\n",
        "params_init = np.zeros(qaoa_ansatz_1.num_parameters)\n",
        "\n",
        "# Optimisation classique des paramètres du circuit de QAOA à l'aide de Scipy\n",
        "res_opt = minimize(\n",
        "    fonction_cout, params_init, args=(estimator, qaoa_ansatz_1.decompose(reps=2), cost_operator), method=\"COBYLA\"\n",
        ")  # , options={\"tol\": 1e-14}\n",
        "\n",
        "\n",
        "# Extraction des informations suite à l'optimisation\n",
        "cout_opt = res_opt.fun  # Cout optimal trouvé\n",
        "params_opt = res_opt.x  # Paramètres optimaux trouvés\n",
        "\n",
        "# Affichage des résultats obtenus\n",
        "print(\"Cout optimal trouvé :\", cout_opt)\n",
        "print(\"Paramètres optimaux trouvés :\", params_opt)"
      ]
    },
    {
      "cell_type": "markdown",
      "metadata": {
        "id": "5uU53PuDBXCL"
      },
      "source": [
        "After the optimization process, each parameter on each gate has converged to a specific number. When these values are fixed we end up with a specific quantum circuit."
      ]
    },
    {
      "cell_type": "code",
      "execution_count": null,
      "metadata": {
        "id": "unHT7wJlBXCL",
        "scrolled": false
      },
      "outputs": [],
      "source": [
        "qaoa_ansatz_1_opt = qaoa_ansatz_1.assign_parameters(params_opt)\n",
        "qaoa_ansatz_1_opt.decompose().draw('mpl')"
      ]
    },
    {
      "cell_type": "markdown",
      "metadata": {
        "id": "ucev1M56BXCM"
      },
      "source": [
        "We now run this circuit using a `QuantumInstance` object from Qiskit and then show the histogram of probabilities."
      ]
    },
    {
      "cell_type": "code",
      "execution_count": null,
      "metadata": {
        "id": "QLh-4abtBXCM",
        "scrolled": true
      },
      "outputs": [],
      "source": [
        "sampler = Sampler(backend=simulator)\n",
        "\n",
        "\n",
        "optimal_qc_with_measurements = qaoa_ansatz_1_opt.copy()\n",
        "optimal_qc_with_measurements.measure_all()\n",
        "final_counts = samxpler.run([optimal_qc_with_measurements.decompose(reps=2)]).result()[0].data.meas.get_counts()\n",
        "plot_histogram(final_counts, figsize=(12,4))"
      ]
    },
    {
      "cell_type": "code",
      "execution_count": null,
      "metadata": {
        "id": "EHnT4086BXCM",
        "scrolled": true
      },
      "outputs": [],
      "source": [
        "# Get the state with maximum probability and print it\n",
        "maximum_prob_state = max(final_counts, key=final_counts.get)\n",
        "print(\"Basis state with highest probability: \", maximum_prob_state)"
      ]
    },
    {
      "cell_type": "code",
      "execution_count": null,
      "metadata": {
        "id": "gQFv4WSJBXCN",
        "scrolled": true
      },
      "outputs": [],
      "source": [
        "# Show the obtained solution on the graph\n",
        "print_solution_graph(graph, maximum_prob_state)"
      ]
    },
    {
      "cell_type": "markdown",
      "metadata": {
        "id": "w0K8ugsYBXCN"
      },
      "source": [
        "### Remark\n",
        "Observe that in the example above the variable `reps = 1` on the instance of the QAOA algorithm. This is one of the reasons why the histogram doesn't show a strong difference between the actual solution of the MAXCUT problem and the other basis states. We will investigate what happens to this histogram when we increase the value of the variable `reps` in the next section."
      ]
    },
    {
      "cell_type": "markdown",
      "metadata": {
        "id": "8EhL8NpiBXCN"
      },
      "source": [
        "## Exercise 4\n",
        "What is the cut value of this solution?"
      ]
    },
    {
      "cell_type": "code",
      "execution_count": null,
      "metadata": {
        "id": "NbmbWGSIBXCN"
      },
      "outputs": [],
      "source": [
        "cut_value = # Put the cut value here\n",
        "\n",
        "exercise_4(cut_value, maximum_prob_state)"
      ]
    },
    {
      "cell_type": "markdown",
      "metadata": {
        "id": "QBnjAbcwBXCN"
      },
      "source": [
        "## The impact of layer repetitions\n",
        "\n",
        "We will now show 2 different histograms of basis states and probabilities obtained with different values of the variable `reps` on the QAOA object."
      ]
    },
    {
      "cell_type": "markdown",
      "metadata": {
        "id": "ynMP2VbXBXCO"
      },
      "source": [
        "### `reps = 3`"
      ]
    },
    {
      "cell_type": "code",
      "execution_count": null,
      "metadata": {
        "id": "NpWpRXTWBXCO"
      },
      "outputs": [],
      "source": [
        "# Instantiate QAOA algorithm from Qiskit\n",
        "qaoa_ansatz_3 = QAOAAnsatz(cost_operator, reps=3)\n",
        "\n",
        "params_init = np.zeros(qaoa_ansatz_3.num_parameters)\n",
        "\n",
        "# Optimisation classique des paramètres du circuit de QAOA à l'aide de Scipy\n",
        "res_opt = minimize(\n",
        "    fonction_cout, params_init, args=(estimator, qaoa_ansatz_3.decompose(reps=2), cost_operator), method=\"COBYLA\"\n",
        ")  # , options={\"tol\": 1e-14}\n",
        "\n",
        "\n",
        "# Extraction des informations suite à l'optimisation\n",
        "cout_opt = res_opt.fun  # Cout optimal trouvé\n",
        "params_opt = res_opt.x  # Paramètres optimaux trouvés\n",
        "\n",
        "qaoa_ansatz_3_opt = qaoa_ansatz_3.assign_parameters(params_opt)\n",
        "\n",
        "optimal_qc_with_measurements = qaoa_ansatz_3_opt.copy()\n",
        "optimal_qc_with_measurements.measure_all()\n",
        "final_counts = sampler.run([optimal_qc_with_measurements.decompose(reps=2)]).result()[0].data.meas.get_counts()\n",
        "\n",
        "# plot the histogram\n",
        "plot_histogram(final_counts, figsize=(12,4))"
      ]
    },
    {
      "cell_type": "code",
      "execution_count": null,
      "metadata": {
        "id": "QEVPjfBvBXCO"
      },
      "outputs": [],
      "source": [
        "maximum_prob_state = max(final_counts, key=final_counts.get)\n",
        "print_solution_graph(graph, maximum_prob_state)"
      ]
    },
    {
      "cell_type": "markdown",
      "metadata": {
        "id": "QNSnNUa2BXCO"
      },
      "source": [
        "### `reps = 8`"
      ]
    },
    {
      "cell_type": "code",
      "execution_count": null,
      "metadata": {
        "id": "t8VG0PKbBXCO"
      },
      "outputs": [],
      "source": [
        "# Instantiate QAOA algorithm from Qiskit\n",
        "qaoa_ansatz_8 = QAOAAnsatz(cost_operator, reps=8)\n",
        "\n",
        "params_init = np.zeros(qaoa_ansatz_8.num_parameters)\n",
        "\n",
        "# Optimization process\n",
        "res_opt = minimize(\n",
        "    fonction_cout, params_init, args=(estimator, qaoa_ansatz_8.decompose(reps=2), cost_operator), method=\"COBYLA\"\n",
        ")  # , options={\"tol\": 1e-14}\n",
        "\n",
        "\n",
        "# Extraction des informations suite à l'optimisation\n",
        "cout_opt = res_opt.fun  # Cout optimal trouvé\n",
        "params_opt = res_opt.x  # Paramètres optimaux trouvés\n",
        "\n",
        "# Getting the histogram of counts of the optimal circuit\n",
        "qaoa_ansatz_8_opt = qaoa_ansatz_8.assign_parameters(params_opt)\n",
        "\n",
        "optimal_qc_with_measurements = qaoa_ansatz_8_opt.copy()\n",
        "optimal_qc_with_measurements.measure_all()\n",
        "final_counts = sampler.run([optimal_qc_with_measurements.decompose(reps=2)]).result()[0].data.meas.get_counts()\n",
        "\n",
        "# plot the histogram\n",
        "plot_histogram(final_counts, figsize=(12,4))"
      ]
    },
    {
      "cell_type": "code",
      "execution_count": null,
      "metadata": {
        "id": "vVA84W6wBXCP"
      },
      "outputs": [],
      "source": [
        "maximum_prob_state = max(final_counts, key=final_counts.get)\n",
        "print_solution_graph(graph, maximum_prob_state)"
      ]
    },
    {
      "cell_type": "markdown",
      "metadata": {
        "id": "qKl9V0GSBXCP"
      },
      "source": [
        "## Observations\n",
        "\n",
        "You may have noticed that QAOA doesn't always obtains the optimal solution and that this sometimes depends on how high is the value of the `reps` variable. Remember that QAOA stands for Quantum <strong><i>Approximate</i></strong> Optimization Algorithm, which means that the algorithm may not always find the optimal solution. Nevertheless, QAOA is still usefull to obtain approximate solutions to hard problems that cannot be obtained by classical algorithms.\n",
        "\n",
        "Finally, we mention a mathematical result related to the phenomenon of getting better solutions when we increase the variable `reps`.\n",
        "\n",
        "### Theorem.\n",
        "The quality of the approximation made by the algorithm increases with the number of layers.\n"
      ]
    },
    {
      "cell_type": "markdown",
      "metadata": {
        "id": "c6PBREfFBXCP"
      },
      "source": [
        "## Without optimization\n",
        "\n",
        "According to the theory of quantum annealing, one can classicaly compute a set of parameters that allow us to\n",
        "compute the average value that is closest to an optimal result. It is not clear if this approach\n",
        "will also work on systems with a bigger systems.\n"
      ]
    },
    {
      "cell_type": "code",
      "execution_count": null,
      "metadata": {
        "id": "lckPrziTBXCP",
        "pycharm": {
          "name": "#%%\n"
        }
      },
      "outputs": [],
      "source": [
        "reps = 3\n",
        "\n",
        "# qaoa_n_reps = QAOA(optimizer=optimizer,quantum_instance=quantum_instance,reps=reps)\n",
        "\n",
        "betas = [-1., -0.6, -0.2]\n",
        "gammas = [0.2, 0.6, 1.]\n",
        "\n",
        "initial_qc = qaoa_ansatz_3.assign_parameters(betas + gammas)\n",
        "initial_qc.decompose(reps=2).draw()"
      ]
    },
    {
      "cell_type": "code",
      "execution_count": null,
      "metadata": {
        "id": "RzzhUaQ7BXCQ",
        "pycharm": {
          "name": "#%%\n"
        }
      },
      "outputs": [],
      "source": [
        "initial_qc.measure_all()\n",
        "final_counts = sampler.run([initial_qc.decompose(reps=2)]).result()[0].data.meas.get_counts()\n",
        "plot_histogram(final_counts, figsize=(12,4))"
      ]
    },
    {
      "cell_type": "markdown",
      "metadata": {
        "id": "pt3mKkhLBXCQ"
      },
      "source": [
        "#### Appreciation and evaluation form\n",
        "\n",
        "You can use this notebook to help you solve the test [HERE](https://forms.office.com/r/dn0vXerV8j).\n",
        "You have to respond correctly to at least 2 questions out of 4 on the test inside the form.\n",
        "There is also a section concerning your appreciation of the workshop. You have 24 hours to respond!\n",
        "\n"
      ]
    }
  ],
  "metadata": {
    "colab": {
      "provenance": []
    },
    "interpreter": {
      "hash": "b55c30410beb22357ac18ba153fd04a8b84d0701b2c100ac7a9796ea7045a76b"
    },
    "kernelspec": {
      "display_name": "Python 3",
      "language": "python",
      "name": "python3"
    },
    "language_info": {
      "codemirror_mode": {
        "name": "ipython",
        "version": 3
      },
      "file_extension": ".py",
      "mimetype": "text/x-python",
      "name": "python",
      "nbconvert_exporter": "python",
      "pygments_lexer": "ipython3",
      "version": "3.8.5"
    }
  },
  "nbformat": 4,
  "nbformat_minor": 0
}